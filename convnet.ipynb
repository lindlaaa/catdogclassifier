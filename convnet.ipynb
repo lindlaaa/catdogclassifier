{
 "cells": [
  {
   "cell_type": "code",
   "execution_count": 11,
   "id": "8e4df533-468d-487a-879f-b3141c63059f",
   "metadata": {},
   "outputs": [],
   "source": [
    "import os\n",
    "import numpy as np\n",
    "import cv2\n",
    "from tqdm import tqdm\n",
    "import torch\n",
    "import wandb\n",
    "import torch.nn as nn\n",
    "import torch.nn.functional as F\n",
    "import torch.optim as optim\n",
    "\n",
    "REBUILD_DATA = False\n",
    "KERNEL_SIZE = 5\n",
    "LEARNING_RATE = 0.0005"
   ]
  },
  {
   "cell_type": "code",
   "execution_count": 12,
   "id": "39e22bf4-a669-48f9-883f-61c5fa5db734",
   "metadata": {},
   "outputs": [
    {
     "name": "stdout",
     "output_type": "stream",
     "text": [
      "GPU run.\n"
     ]
    },
    {
     "data": {
      "text/html": [
       "Tracking run with wandb version 0.13.5"
      ],
      "text/plain": [
       "<IPython.core.display.HTML object>"
      ]
     },
     "metadata": {},
     "output_type": "display_data"
    },
    {
     "data": {
      "text/html": [
       "Run data is saved locally in <code>C:\\Users\\miste\\Documents\\Jupyter\\wandb\\run-20221107_223910-7bt702s0</code>"
      ],
      "text/plain": [
       "<IPython.core.display.HTML object>"
      ]
     },
     "metadata": {},
     "output_type": "display_data"
    },
    {
     "data": {
      "text/html": [
       "Syncing run <strong><a href=\"https://wandb.ai/lindlaaa/cats-and-dogs/runs/7bt702s0\" target=\"_blank\">olive-meadow-10</a></strong> to <a href=\"https://wandb.ai/lindlaaa/cats-and-dogs\" target=\"_blank\">Weights & Biases</a> (<a href=\"https://wandb.me/run\" target=\"_blank\">docs</a>)<br/>"
      ],
      "text/plain": [
       "<IPython.core.display.HTML object>"
      ]
     },
     "metadata": {},
     "output_type": "display_data"
    },
    {
     "data": {
      "text/html": [
       "<button onClick=\"this.nextSibling.style.display='block';this.style.display='none';\">Display W&B run</button><iframe src=\"https://wandb.ai/lindlaaa/cats-and-dogs/runs/7bt702s0?jupyter=true\" style=\"border:none;width:100%;height:420px;display:none;\"></iframe>"
      ],
      "text/plain": [
       "<wandb.sdk.wandb_run.Run at 0x27cf425ce50>"
      ]
     },
     "execution_count": 12,
     "metadata": {},
     "output_type": "execute_result"
    }
   ],
   "source": [
    "device = torch.device(\"cuda:0\")\n",
    "if torch.cuda.is_available():\n",
    "    device = torch.device(\"cuda:0\")\n",
    "    print(\"GPU run.\")\n",
    "else:\n",
    "    device = torch.device(\"cpu\")\n",
    "    print(\"CPU run.\")\n",
    "\n",
    "wandb.config = {\n",
    "}\n",
    "wandb.init(project=\"cats-and-dogs\")"
   ]
  },
  {
   "cell_type": "code",
   "execution_count": 13,
   "id": "8105680d-caff-40da-af89-996da550b929",
   "metadata": {},
   "outputs": [
    {
     "name": "stdout",
     "output_type": "stream",
     "text": [
      "kagglecatsanddogs_5340\\PetImages\\Cat\n"
     ]
    },
    {
     "name": "stderr",
     "output_type": "stream",
     "text": [
      "100%|████████████████████████████████████████████████████████████████████████████████████████| 12501/12501 [00:11<00:00, 1083.34it/s]\n"
     ]
    },
    {
     "name": "stdout",
     "output_type": "stream",
     "text": [
      "kagglecatsanddogs_5340\\PetImages\\Dog\n"
     ]
    },
    {
     "name": "stderr",
     "output_type": "stream",
     "text": [
      "100%|████████████████████████████████████████████████████████████████████████████████████████| 12501/12501 [00:12<00:00, 1031.04it/s]\n",
      "C:\\Python39\\lib\\site-packages\\numpy\\lib\\npyio.py:501: VisibleDeprecationWarning: Creating an ndarray from ragged nested sequences (which is a list-or-tuple of lists-or-tuples-or ndarrays with different lengths or shapes) is deprecated. If you meant to do this, you must specify 'dtype=object' when creating the ndarray.\n",
      "  arr = np.asanyarray(arr)\n"
     ]
    },
    {
     "name": "stdout",
     "output_type": "stream",
     "text": [
      "Cats: 12476\n",
      "Dogs: 12470\n",
      "Net(\n",
      "  (conv1): Conv2d(1, 32, kernel_size=(5, 5), stride=(1, 1))\n",
      "  (conv2): Conv2d(32, 64, kernel_size=(5, 5), stride=(1, 1))\n",
      "  (conv3): Conv2d(64, 128, kernel_size=(5, 5), stride=(1, 1))\n",
      "  (fc1): Linear(in_features=512, out_features=512, bias=True)\n",
      "  (fc2): Linear(in_features=512, out_features=2, bias=True)\n",
      ")\n"
     ]
    }
   ],
   "source": [
    "class DogsVsCats():\n",
    "    IMG_SIZE = 50\n",
    "    CATS = \"kagglecatsanddogs_5340\\PetImages\\Cat\"\n",
    "    DOGS = \"kagglecatsanddogs_5340\\PetImages\\Dog\"\n",
    "    LABELS = {CATS: 0, DOGS: 1}\n",
    "    \n",
    "    training_data = []\n",
    "    catcount = 0\n",
    "    dogcount = 0\n",
    "    \n",
    "    def make_training_data(self):\n",
    "        \n",
    "        # iterate over directories\n",
    "        for label in self.LABELS:\n",
    "            print(label)\n",
    "            \n",
    "            # iterate over files\n",
    "            for f in  tqdm(os.listdir(label)):\n",
    "                try: \n",
    "                    path = os.path.join(label, f)\n",
    "                    img = cv2.imread(path, cv2.IMREAD_GRAYSCALE)\n",
    "                    img = cv2.resize(img, (self.IMG_SIZE, self.IMG_SIZE))\n",
    "                    self.training_data.append([np.array(img), np.eye(2)[self.LABELS[label]]])\n",
    "\n",
    "                    if label == self.CATS:\n",
    "                        self.catcount += 1\n",
    "                    elif label == self.DOGS:\n",
    "                        self.dogcount += 1\n",
    "                except Exception as e:\n",
    "                    #print(str(e))\n",
    "                    pass\n",
    "            \n",
    "        # shuffle data in place\n",
    "        np.random.shuffle(self.training_data)\n",
    "        np.save(\"catsdogs_training_data.npy\", self.training_data)\n",
    "        print(\"Cats:\", self.catcount)\n",
    "        print(\"Dogs:\", self.dogcount)\n",
    "        \n",
    "class Net(nn.Module):\n",
    "    def __init__(self):\n",
    "        super().__init__()\n",
    "        self.conv1 = nn.Conv2d(in_channels=1, out_channels=32, kernel_size=KERNEL_SIZE, device=device)\n",
    "        self.conv2 = nn.Conv2d(in_channels=32, out_channels=64, kernel_size=KERNEL_SIZE, device=device)\n",
    "        self.conv3 = nn.Conv2d(in_channels=64, out_channels=128, kernel_size=KERNEL_SIZE, device=device)\n",
    "        \n",
    "        # cheat the size of input to linear layer\n",
    "        x = torch.randn(DogsVsCats.IMG_SIZE, DogsVsCats.IMG_SIZE).to(device).view(-1, 1, DogsVsCats.IMG_SIZE, DogsVsCats.IMG_SIZE)\n",
    "        self._to_linear = None\n",
    "        self.convs(x)\n",
    "        \n",
    "        self.fc1 = nn.Linear(in_features=self._to_linear, out_features=512, device=device)\n",
    "        self.fc2 = nn.Linear(in_features=512, out_features=2, device=device)\n",
    "    \n",
    "    def convs(self, x):\n",
    "        x = F.max_pool2d(F.relu(self.conv1(x)), (2,2))\n",
    "        x = F.max_pool2d(F.relu(self.conv2(x)), (2,2))\n",
    "        x = F.max_pool2d(F.relu(self.conv3(x)), (2,2))\n",
    "        \n",
    "        if self._to_linear is None:\n",
    "            self._to_linear = x[0].shape[0]*x[0].shape[1]*x[0].shape[2]\n",
    "        return x\n",
    "        \n",
    "    def forward(self, x):\n",
    "        x = self.convs(x)\n",
    "        x = x.view(-1, self._to_linear)\n",
    "        x = F.relu(input=self.fc1(x))\n",
    "        x = self.fc2(x)\n",
    "        return F.softmax(input=x, dim=1)\n",
    "        \n",
    "dogsvscats = DogsVsCats()\n",
    "if REBUILD_DATA:\n",
    "    dogsvscats.make_training_data()\n",
    "net = Net().to(device)\n",
    "wandb.watch(net)\n",
    "\n",
    "optimizer = optim.Adam(params=net.parameters(), lr=LEARNING_RATE)\n",
    "loss_function = nn.MSELoss()\n",
    "\n",
    "print(net)"
   ]
  },
  {
   "cell_type": "code",
   "execution_count": 14,
   "id": "e59a7bdb-f1b9-4511-8f70-bc44cdfbba28",
   "metadata": {},
   "outputs": [
    {
     "name": "stdout",
     "output_type": "stream",
     "text": [
      "Expected size of test set, at 10.0% of total set: 2494\n",
      "Size of train set: 22452\n",
      "Size of test set: 2494\n"
     ]
    }
   ],
   "source": [
    "# set up data\n",
    "\n",
    "training_data = np.load(\"catsdogs_training_data.npy\", allow_pickle=True)\n",
    "\n",
    "X = torch.Tensor([i[0] for i in training_data]).to(device).view(-1, dogsvscats.IMG_SIZE, dogsvscats.IMG_SIZE)\n",
    "X = X/255.0 # scaling the image changing RGB scale to a decimal\n",
    "y = torch.Tensor([i[1] for i in training_data]).to(device)\n",
    "\n",
    "VAL_PCT = 0.1 # test against a percent of the data set\n",
    "val_size = int(len(X)*VAL_PCT) # size of validation set\n",
    "print(f\"Expected size of test set, at {VAL_PCT*100}% of total set:\", val_size)\n",
    "# split training set to create test and train sets\n",
    "train_X = X[:-val_size].to(device)\n",
    "train_y = y[:-val_size].to(device)\n",
    "print(f\"Size of train set:\", len(train_X))\n",
    "\n",
    "test_X = X[-val_size:].to(device)\n",
    "test_y = y[-val_size:].to(device)\n",
    "print(f\"Size of test set:\", len(test_X))"
   ]
  },
  {
   "cell_type": "code",
   "execution_count": 15,
   "id": "ca077e23-5716-468a-bc00-a85940d4a1e4",
   "metadata": {},
   "outputs": [],
   "source": [
    "def fwd_pass(X, y, train=False):\n",
    "    if train:\n",
    "        net.zero_grad()\n",
    "    outputs = net(X).to(device)\n",
    "    matches = [torch.argmax(i) == torch.argmax(j) for i, j in zip(outputs, y)]\n",
    "    accuracy = matches.count(True)/len(matches)\n",
    "    loss = loss_function(outputs, y).to(device)\n",
    "    \n",
    "    if train:\n",
    "        loss.backward()\n",
    "        optimizer.step()\n",
    "    return accuracy, loss\n",
    "\n",
    "def test(size=32):\n",
    "    X, y = test_X[:size], test_y[:size]\n",
    "    accuracy, loss = fwd_pass(X.view(-1, 1, dogsvscats.IMG_SIZE, dogsvscats.IMG_SIZE), y)\n",
    "    return accuracy, loss"
   ]
  },
  {
   "cell_type": "code",
   "execution_count": 16,
   "id": "df33dc71-c09d-4d8d-b2be-efa90372aea5",
   "metadata": {},
   "outputs": [],
   "source": [
    "def train():\n",
    "    BATCH_SIZE = 100\n",
    "    EPOCHS = 30\n",
    "    for epoch in range(EPOCHS):\n",
    "        for i in tqdm(range(0, len(train_X), BATCH_SIZE)):\n",
    "            batch_X = train_X[i:i+BATCH_SIZE].view(-1, 1, dogsvscats.IMG_SIZE, dogsvscats.IMG_SIZE).to(device)\n",
    "            batch_y = train_y[i:i+BATCH_SIZE].to(device)\n",
    "            \n",
    "            accuracy, loss = fwd_pass(batch_X, batch_y, train=True)\n",
    "            if i % 9 == 0:\n",
    "                eval_accuracy, eval_loss = test(size=BATCH_SIZE)\n",
    "                wandb.log({'evaluation loss': round(float(eval_loss),4), 'eval accuracy': round(float(eval_accuracy),4), 'loss': round(float(loss),4), 'accuracy': round(float(accuracy),4), 'epoch': epoch, 'batch': i/BATCH_SIZE})"
   ]
  },
  {
   "cell_type": "code",
   "execution_count": 17,
   "id": "cd0ddf07-4b1c-4ddd-96b9-26c92dfddbb0",
   "metadata": {},
   "outputs": [
    {
     "name": "stderr",
     "output_type": "stream",
     "text": [
      "100%|██████████████████████████████████████████████████████████████████████████████████████████████| 225/225 [00:03<00:00, 59.41it/s]\n",
      "100%|██████████████████████████████████████████████████████████████████████████████████████████████| 225/225 [00:03<00:00, 62.18it/s]\n",
      "100%|██████████████████████████████████████████████████████████████████████████████████████████████| 225/225 [00:03<00:00, 62.39it/s]\n",
      "100%|██████████████████████████████████████████████████████████████████████████████████████████████| 225/225 [00:03<00:00, 62.29it/s]\n",
      "100%|██████████████████████████████████████████████████████████████████████████████████████████████| 225/225 [00:03<00:00, 61.42it/s]\n",
      "100%|██████████████████████████████████████████████████████████████████████████████████████████████| 225/225 [00:03<00:00, 62.37it/s]\n",
      "100%|██████████████████████████████████████████████████████████████████████████████████████████████| 225/225 [00:03<00:00, 62.25it/s]\n",
      "100%|██████████████████████████████████████████████████████████████████████████████████████████████| 225/225 [00:03<00:00, 62.60it/s]\n",
      "100%|██████████████████████████████████████████████████████████████████████████████████████████████| 225/225 [00:03<00:00, 62.28it/s]\n",
      "100%|██████████████████████████████████████████████████████████████████████████████████████████████| 225/225 [00:03<00:00, 62.40it/s]\n",
      "100%|██████████████████████████████████████████████████████████████████████████████████████████████| 225/225 [00:03<00:00, 62.57it/s]\n",
      "100%|██████████████████████████████████████████████████████████████████████████████████████████████| 225/225 [00:03<00:00, 62.49it/s]\n",
      "100%|██████████████████████████████████████████████████████████████████████████████████████████████| 225/225 [00:03<00:00, 62.48it/s]\n",
      "100%|██████████████████████████████████████████████████████████████████████████████████████████████| 225/225 [00:03<00:00, 62.43it/s]\n",
      "100%|██████████████████████████████████████████████████████████████████████████████████████████████| 225/225 [00:03<00:00, 61.46it/s]\n",
      "100%|██████████████████████████████████████████████████████████████████████████████████████████████| 225/225 [00:03<00:00, 62.81it/s]\n",
      "100%|██████████████████████████████████████████████████████████████████████████████████████████████| 225/225 [00:03<00:00, 62.65it/s]\n",
      "100%|██████████████████████████████████████████████████████████████████████████████████████████████| 225/225 [00:03<00:00, 62.44it/s]\n",
      "100%|██████████████████████████████████████████████████████████████████████████████████████████████| 225/225 [00:03<00:00, 62.87it/s]\n",
      "100%|██████████████████████████████████████████████████████████████████████████████████████████████| 225/225 [00:03<00:00, 62.55it/s]\n",
      "100%|██████████████████████████████████████████████████████████████████████████████████████████████| 225/225 [00:03<00:00, 62.64it/s]\n",
      "100%|██████████████████████████████████████████████████████████████████████████████████████████████| 225/225 [00:03<00:00, 62.81it/s]\n",
      "100%|██████████████████████████████████████████████████████████████████████████████████████████████| 225/225 [00:03<00:00, 62.49it/s]\n",
      "100%|██████████████████████████████████████████████████████████████████████████████████████████████| 225/225 [00:03<00:00, 61.96it/s]\n",
      "100%|██████████████████████████████████████████████████████████████████████████████████████████████| 225/225 [00:03<00:00, 62.28it/s]\n",
      "100%|██████████████████████████████████████████████████████████████████████████████████████████████| 225/225 [00:03<00:00, 62.79it/s]\n",
      "100%|██████████████████████████████████████████████████████████████████████████████████████████████| 225/225 [00:03<00:00, 61.86it/s]\n",
      "100%|██████████████████████████████████████████████████████████████████████████████████████████████| 225/225 [00:03<00:00, 62.64it/s]\n",
      "100%|██████████████████████████████████████████████████████████████████████████████████████████████| 225/225 [00:03<00:00, 62.24it/s]\n",
      "100%|██████████████████████████████████████████████████████████████████████████████████████████████| 225/225 [00:03<00:00, 62.33it/s]\n"
     ]
    }
   ],
   "source": [
    "train()"
   ]
  },
  {
   "cell_type": "code",
   "execution_count": 18,
   "id": "b70096e0-0fed-4f3b-ac2f-64fc93d4724b",
   "metadata": {},
   "outputs": [
    {
     "data": {
      "text/html": [
       "Waiting for W&B process to finish... <strong style=\"color:green\">(success).</strong>"
      ],
      "text/plain": [
       "<IPython.core.display.HTML object>"
      ]
     },
     "metadata": {},
     "output_type": "display_data"
    },
    {
     "data": {
      "text/html": [
       "<style>\n",
       "    table.wandb td:nth-child(1) { padding: 0 10px; text-align: left ; width: auto;} td:nth-child(2) {text-align: left ; width: 100%}\n",
       "    .wandb-row { display: flex; flex-direction: row; flex-wrap: wrap; justify-content: flex-start; width: 100% }\n",
       "    .wandb-col { display: flex; flex-direction: column; flex-basis: 100%; flex: 1; padding: 10px; }\n",
       "    </style>\n",
       "<div class=\"wandb-row\"><div class=\"wandb-col\"><h3>Run history:</h3><br/><table class=\"wandb\"><tr><td>accuracy</td><td>▁▁▂▃▄▅▄▅▅▆▅▆▅▅▆▇▆▆▆▆▇▅█▇▇▇▇█▆▆██▇▇▇██▇██</td></tr><tr><td>batch</td><td>▃█▅▅▂▇▇▄▁▁▆▃▃▇▇▅▂▂▆▄▃█▅▅▂▇▇▄▄▁▆▆▃█▇▅▂▂▇▆</td></tr><tr><td>epoch</td><td>▁▁▁▁▂▂▂▂▂▃▃▃▃▃▃▄▄▄▄▄▅▅▅▅▅▅▆▆▆▆▆▇▇▇▇▇████</td></tr><tr><td>eval accuracy</td><td>▂▁▃▅▆▆▆▆▆▇▆▆▇█▇▇▆▆▇▆▇▇▇▆▇▆▆▆▆▆▅▅▆▆▆▆▆▅▆▆</td></tr><tr><td>evaluation loss</td><td>▇█▇▅▄▅▃▄▃▃▄▂▃▁▃▄▅▄▄▅▃▄▄▆▄▅▇▅▆▇▇█▇█▇▇▇██▆</td></tr><tr><td>loss</td><td>██▇▆▆▅▆▅▅▄▅▄▅▄▄▃▄▄▄▄▃▄▂▂▃▂▂▂▃▄▂▁▂▂▂▁▁▂▂▂</td></tr></table><br/></div><div class=\"wandb-col\"><h3>Run summary:</h3><br/><table class=\"wandb\"><tr><td>accuracy</td><td>0.93</td></tr><tr><td>batch</td><td>216.0</td></tr><tr><td>epoch</td><td>29</td></tr><tr><td>eval accuracy</td><td>0.74</td></tr><tr><td>evaluation loss</td><td>0.2202</td></tr><tr><td>loss</td><td>0.0563</td></tr></table><br/></div></div>"
      ],
      "text/plain": [
       "<IPython.core.display.HTML object>"
      ]
     },
     "metadata": {},
     "output_type": "display_data"
    },
    {
     "data": {
      "text/html": [
       "Synced <strong style=\"color:#cdcd00\">olive-meadow-10</strong>: <a href=\"https://wandb.ai/lindlaaa/cats-and-dogs/runs/7bt702s0\" target=\"_blank\">https://wandb.ai/lindlaaa/cats-and-dogs/runs/7bt702s0</a><br/>Synced 5 W&B file(s), 0 media file(s), 0 artifact file(s) and 0 other file(s)"
      ],
      "text/plain": [
       "<IPython.core.display.HTML object>"
      ]
     },
     "metadata": {},
     "output_type": "display_data"
    },
    {
     "data": {
      "text/html": [
       "Find logs at: <code>.\\wandb\\run-20221107_223910-7bt702s0\\logs</code>"
      ],
      "text/plain": [
       "<IPython.core.display.HTML object>"
      ]
     },
     "metadata": {},
     "output_type": "display_data"
    }
   ],
   "source": [
    "wandb.finish()"
   ]
  },
  {
   "cell_type": "code",
   "execution_count": null,
   "id": "d4e5dae2-625f-4013-ac24-9595fc963975",
   "metadata": {},
   "outputs": [],
   "source": []
  },
  {
   "cell_type": "code",
   "execution_count": null,
   "id": "98b6af43-4111-4f5b-85de-f826139cf0f2",
   "metadata": {},
   "outputs": [],
   "source": []
  }
 ],
 "metadata": {
  "kernelspec": {
   "display_name": "Python 3 (ipykernel)",
   "language": "python",
   "name": "python3"
  },
  "language_info": {
   "codemirror_mode": {
    "name": "ipython",
    "version": 3
   },
   "file_extension": ".py",
   "mimetype": "text/x-python",
   "name": "python",
   "nbconvert_exporter": "python",
   "pygments_lexer": "ipython3",
   "version": "3.9.13"
  }
 },
 "nbformat": 4,
 "nbformat_minor": 5
}
